{
 "cells": [
  {
   "cell_type": "code",
   "execution_count": 2,
   "metadata": {},
   "outputs": [],
   "source": [
    "import numpy as np\n",
    "import matplotlib.pyplot as plt\n",
    "import pandas as pd\n",
    "import seaborn as sns"
   ]
  },
  {
   "cell_type": "markdown",
   "metadata": {},
   "source": [
    "### Read in Data and Split\n"
   ]
  },
  {
   "cell_type": "code",
   "execution_count": 4,
   "metadata": {},
   "outputs": [],
   "source": [
    "test_data, train_data = pd.read_csv('fhs_test.csv'), pd.read_csv('fhs_train.csv')\n",
    "data = pd.concat([test_data, train_data])\n",
    "\n",
    "num_vars = ['age', 'cigsPerDay', 'totChol', 'sysBP', 'diaBP', 'BMI', 'heartRate', 'glucose']\n",
    "cat_vars = ['sex', 'education', 'BPMeds', 'prevalentStroke', 'prevalentHyp', 'diabetes']"
   ]
  },
  {
   "cell_type": "code",
   "execution_count": 30,
   "metadata": {},
   "outputs": [
    {
     "data": {
      "text/html": [
       "<div>\n",
       "<style scoped>\n",
       "    .dataframe tbody tr th:only-of-type {\n",
       "        vertical-align: middle;\n",
       "    }\n",
       "\n",
       "    .dataframe tbody tr th {\n",
       "        vertical-align: top;\n",
       "    }\n",
       "\n",
       "    .dataframe thead th {\n",
       "        text-align: right;\n",
       "    }\n",
       "</style>\n",
       "<table border=\"1\" class=\"dataframe\">\n",
       "  <thead>\n",
       "    <tr style=\"text-align: right;\">\n",
       "      <th></th>\n",
       "      <th>Unnamed: 0</th>\n",
       "      <th>sex</th>\n",
       "      <th>age</th>\n",
       "      <th>education</th>\n",
       "      <th>currentSmoker</th>\n",
       "      <th>cigsPerDay</th>\n",
       "      <th>BPMeds</th>\n",
       "      <th>prevalentStroke</th>\n",
       "      <th>prevalentHyp</th>\n",
       "      <th>diabetes</th>\n",
       "      <th>totChol</th>\n",
       "      <th>sysBP</th>\n",
       "      <th>diaBP</th>\n",
       "      <th>BMI</th>\n",
       "      <th>heartRate</th>\n",
       "      <th>glucose</th>\n",
       "      <th>TenYearCHD</th>\n",
       "    </tr>\n",
       "  </thead>\n",
       "  <tbody>\n",
       "    <tr>\n",
       "      <th>0</th>\n",
       "      <td>674</td>\n",
       "      <td>0</td>\n",
       "      <td>58</td>\n",
       "      <td>1.0</td>\n",
       "      <td>1</td>\n",
       "      <td>20.0</td>\n",
       "      <td>0.0</td>\n",
       "      <td>0</td>\n",
       "      <td>0</td>\n",
       "      <td>0</td>\n",
       "      <td>NaN</td>\n",
       "      <td>126.0</td>\n",
       "      <td>77.0</td>\n",
       "      <td>30.08</td>\n",
       "      <td>78.0</td>\n",
       "      <td>NaN</td>\n",
       "      <td>0</td>\n",
       "    </tr>\n",
       "    <tr>\n",
       "      <th>1</th>\n",
       "      <td>4070</td>\n",
       "      <td>0</td>\n",
       "      <td>51</td>\n",
       "      <td>3.0</td>\n",
       "      <td>0</td>\n",
       "      <td>0.0</td>\n",
       "      <td>0.0</td>\n",
       "      <td>0</td>\n",
       "      <td>0</td>\n",
       "      <td>0</td>\n",
       "      <td>264.0</td>\n",
       "      <td>135.0</td>\n",
       "      <td>83.0</td>\n",
       "      <td>26.68</td>\n",
       "      <td>60.0</td>\n",
       "      <td>74.0</td>\n",
       "      <td>0</td>\n",
       "    </tr>\n",
       "    <tr>\n",
       "      <th>2</th>\n",
       "      <td>3150</td>\n",
       "      <td>0</td>\n",
       "      <td>44</td>\n",
       "      <td>2.0</td>\n",
       "      <td>1</td>\n",
       "      <td>9.0</td>\n",
       "      <td>0.0</td>\n",
       "      <td>0</td>\n",
       "      <td>1</td>\n",
       "      <td>0</td>\n",
       "      <td>NaN</td>\n",
       "      <td>147.5</td>\n",
       "      <td>96.0</td>\n",
       "      <td>30.57</td>\n",
       "      <td>78.0</td>\n",
       "      <td>NaN</td>\n",
       "      <td>1</td>\n",
       "    </tr>\n",
       "    <tr>\n",
       "      <th>3</th>\n",
       "      <td>1695</td>\n",
       "      <td>0</td>\n",
       "      <td>40</td>\n",
       "      <td>2.0</td>\n",
       "      <td>1</td>\n",
       "      <td>20.0</td>\n",
       "      <td>0.0</td>\n",
       "      <td>0</td>\n",
       "      <td>0</td>\n",
       "      <td>0</td>\n",
       "      <td>271.0</td>\n",
       "      <td>138.5</td>\n",
       "      <td>88.0</td>\n",
       "      <td>27.24</td>\n",
       "      <td>80.0</td>\n",
       "      <td>NaN</td>\n",
       "      <td>1</td>\n",
       "    </tr>\n",
       "    <tr>\n",
       "      <th>4</th>\n",
       "      <td>2692</td>\n",
       "      <td>1</td>\n",
       "      <td>58</td>\n",
       "      <td>2.0</td>\n",
       "      <td>1</td>\n",
       "      <td>20.0</td>\n",
       "      <td>0.0</td>\n",
       "      <td>0</td>\n",
       "      <td>0</td>\n",
       "      <td>0</td>\n",
       "      <td>207.0</td>\n",
       "      <td>110.0</td>\n",
       "      <td>80.0</td>\n",
       "      <td>23.55</td>\n",
       "      <td>78.0</td>\n",
       "      <td>78.0</td>\n",
       "      <td>0</td>\n",
       "    </tr>\n",
       "  </tbody>\n",
       "</table>\n",
       "</div>"
      ],
      "text/plain": [
       "   Unnamed: 0  sex  age  education  currentSmoker  cigsPerDay  BPMeds  \\\n",
       "0         674    0   58        1.0              1        20.0     0.0   \n",
       "1        4070    0   51        3.0              0         0.0     0.0   \n",
       "2        3150    0   44        2.0              1         9.0     0.0   \n",
       "3        1695    0   40        2.0              1        20.0     0.0   \n",
       "4        2692    1   58        2.0              1        20.0     0.0   \n",
       "\n",
       "   prevalentStroke  prevalentHyp  diabetes  totChol  sysBP  diaBP    BMI  \\\n",
       "0                0             0         0      NaN  126.0   77.0  30.08   \n",
       "1                0             0         0    264.0  135.0   83.0  26.68   \n",
       "2                0             1         0      NaN  147.5   96.0  30.57   \n",
       "3                0             0         0    271.0  138.5   88.0  27.24   \n",
       "4                0             0         0    207.0  110.0   80.0  23.55   \n",
       "\n",
       "   heartRate  glucose  TenYearCHD  \n",
       "0       78.0      NaN           0  \n",
       "1       60.0     74.0           0  \n",
       "2       78.0      NaN           1  \n",
       "3       80.0      NaN           1  \n",
       "4       78.0     78.0           0  "
      ]
     },
     "execution_count": 30,
     "metadata": {},
     "output_type": "execute_result"
    }
   ],
   "source": [
    "data.head()"
   ]
  },
  {
   "cell_type": "markdown",
   "metadata": {},
   "source": [
    "### Analyze how the data correlates with CHD by categorical and numeric data"
   ]
  },
  {
   "cell_type": "code",
   "execution_count": 77,
   "metadata": {},
   "outputs": [],
   "source": [
    "def desc_data(var):\n",
    "    return data.loc[:, [var, 'TenYearCHD']].groupby('TenYearCHD').describe()\n",
    "\n",
    "def find_diff(var):\n",
    "    return data.groupby('TenYearCHD')[var].mean().diff().iloc[-1]"
   ]
  },
  {
   "cell_type": "code",
   "execution_count": 88,
   "metadata": {},
   "outputs": [
    {
     "name": "stdout",
     "output_type": "stream",
     "text": [
      "               age                                                   \n",
      "             count       mean       std   min   25%   50%   75%   max\n",
      "TenYearCHD                                                           \n",
      "0           3596.0  48.762514  8.413963  32.0  42.0  48.0  55.0  70.0\n",
      "1            644.0  54.145963  8.005663  35.0  48.0  55.0  61.0  70.0\n",
      "           cigsPerDay                                                 \n",
      "                count       mean        std  min  25%  50%   75%   max\n",
      "TenYearCHD                                                            \n",
      "0              3569.0   8.713925  11.694865  0.0  0.0  0.0  20.0  70.0\n",
      "1               642.0  10.629283  13.006645  0.0  0.0  2.5  20.0  60.0\n",
      "           totChol                                                          \n",
      "             count        mean        std    min    25%    50%    75%    max\n",
      "TenYearCHD                                                                  \n",
      "0           3555.0  235.147398  43.765750  113.0  205.0  232.0  261.0  696.0\n",
      "1            635.0  245.388976  48.075698  107.0  213.5  241.0  272.0  600.0\n",
      "             sysBP                                                         \n",
      "             count        mean        std   min    25%    50%    75%    max\n",
      "TenYearCHD                                                                 \n",
      "0           3596.0  130.337319  20.450363  83.5  116.0  127.0  141.0  243.0\n",
      "1            644.0  143.618789  26.690282  83.5  125.0  139.0  158.0  295.0\n",
      "             diaBP                                                     \n",
      "             count       mean        std   min   25%   50%   75%    max\n",
      "TenYearCHD                                                             \n",
      "0           3596.0  82.166435  11.338252  50.0  74.0  81.0  88.0  142.5\n",
      "1            644.0  86.981366  14.026900  48.0  78.0  85.5  95.0  140.0\n",
      "               BMI                                                            \n",
      "             count       mean       std    min      25%     50%     75%    max\n",
      "TenYearCHD                                                                    \n",
      "0           3587.0  25.671659  3.983350  15.54  23.0100  25.250  27.870  51.28\n",
      "1            634.0  26.531451  4.522137  15.96  23.4975  26.155  28.895  56.80\n",
      "           heartRate                                                     \n",
      "               count       mean        std   min   25%   50%   75%    max\n",
      "TenYearCHD                                                               \n",
      "0             3596.0  75.762514  11.988209  44.0  68.0  75.0  83.0  143.0\n",
      "1              643.0  76.530327  12.219957  50.0  68.0  75.0  85.0  120.0\n",
      "           glucose                                                     \n",
      "             count       mean        std   min   25%   50%   75%    max\n",
      "TenYearCHD                                                             \n",
      "0           3258.0  80.679251  18.962981  40.0  71.0  78.0  86.0  386.0\n",
      "1            594.0  89.008418  41.140752  40.0  72.0  79.0  90.0  394.0\n"
     ]
    },
    {
     "data": {
      "text/plain": [
       "{'sysBP': 13.281469576271775,\n",
       " 'totChol': 10.241578347010432,\n",
       " 'glucose': 8.329166434138813,\n",
       " 'age': 5.383448828581095,\n",
       " 'diaBP': 4.814931531929886,\n",
       " 'cigsPerDay': 1.9153580197774378,\n",
       " 'BMI': 0.8597923363284323,\n",
       " 'heartRate': 0.7678126897520485}"
      ]
     },
     "execution_count": 88,
     "metadata": {},
     "output_type": "execute_result"
    }
   ],
   "source": [
    "diff_numeric_data = {}\n",
    "\n",
    "for var in num_vars:\n",
    "    print(desc_data(var))\n",
    "    diff_numeric_data[var] = find_diff(var)\n",
    "\n",
    "dict(sorted(diff_numeric_data.items(), key=lambda item: -item[1]))"
   ]
  },
  {
   "cell_type": "markdown",
   "metadata": {},
   "source": [
    "`^ shows the most significant indicators of CHD by purely the difference in numeric values`"
   ]
  },
  {
   "cell_type": "code",
   "execution_count": 87,
   "metadata": {},
   "outputs": [
    {
     "name": "stdout",
     "output_type": "stream",
     "text": [
      "               sex                                             \n",
      "             count      mean       std  min  25%  50%  75%  max\n",
      "TenYearCHD                                                     \n",
      "0           3596.0  0.410734  0.492035  0.0  0.0  0.0  1.0  1.0\n",
      "1            644.0  0.532609  0.499323  0.0  0.0  1.0  1.0  1.0\n",
      "           education                                             \n",
      "               count      mean       std  min  25%  50%  75%  max\n",
      "TenYearCHD                                                       \n",
      "0             3507.0  2.002851  1.014719  1.0  1.0  2.0  3.0  4.0\n",
      "1              628.0  1.848726  1.038823  1.0  1.0  1.0  3.0  4.0\n",
      "            BPMeds                                             \n",
      "             count      mean       std  min  25%  50%  75%  max\n",
      "TenYearCHD                                                     \n",
      "0           3554.0  0.023354  0.151046  0.0  0.0  0.0  0.0  1.0\n",
      "1            633.0  0.064771  0.246316  0.0  0.0  0.0  0.0  1.0\n",
      "           prevalentStroke                                             \n",
      "                     count      mean       std  min  25%  50%  75%  max\n",
      "TenYearCHD                                                             \n",
      "0                   3596.0  0.003893  0.062283  0.0  0.0  0.0  0.0  1.0\n",
      "1                    644.0  0.017081  0.129673  0.0  0.0  0.0  0.0  1.0\n",
      "           prevalentHyp                                             \n",
      "                  count      mean       std  min  25%  50%  75%  max\n",
      "TenYearCHD                                                          \n",
      "0                3596.0  0.275862  0.447010  0.0  0.0  0.0  1.0  1.0\n",
      "1                 644.0  0.504658  0.500367  0.0  0.0  1.0  1.0  1.0\n",
      "           diabetes                                             \n",
      "              count      mean       std  min  25%  50%  75%  max\n",
      "TenYearCHD                                                      \n",
      "0            3596.0  0.019188  0.137204  0.0  0.0  0.0  0.0  1.0\n",
      "1             644.0  0.062112  0.241546  0.0  0.0  0.0  0.0  1.0\n"
     ]
    },
    {
     "data": {
      "text/plain": [
       "{'prevalentHyp': 0.2287963161276505,\n",
       " 'sex': 0.12187454659766894,\n",
       " 'diabetes': 0.04292381459040065,\n",
       " 'BPMeds': 0.041416964708789944,\n",
       " 'prevalentStroke': 0.013187530658633817,\n",
       " 'education': -0.154125325327507}"
      ]
     },
     "execution_count": 87,
     "metadata": {},
     "output_type": "execute_result"
    }
   ],
   "source": [
    "diff_categorical_data = {}\n",
    "\n",
    "for var in cat_vars:\n",
    "    print(desc_data(var))\n",
    "    diff_categorical_data[var] = find_diff(var)\n",
    "\n",
    "dict(sorted(diff_categorical_data.items(), key=lambda item: -item[1]))"
   ]
  },
  {
   "cell_type": "markdown",
   "metadata": {},
   "source": [
    "`prevalentHyp` - Hyp prevalence is positively correlated with CHD\n",
    "\n",
    "`sex` - males more likely to have CHD\n",
    "\n",
    "`diabetes` - diabetes is positively correlated with CHD\n",
    "\n",
    "`BPMeds` - blood pressure medications are positively correlated with CHD\n",
    "\n",
    "`prevalentStroke` - strokes are positively correlated with CHD\n",
    "\n",
    "`education` - Higher Education is positively correlated with CHD"
   ]
  },
  {
   "cell_type": "markdown",
   "metadata": {},
   "source": [
    "### Pipelining Shenanigans with every single variable"
   ]
  },
  {
   "cell_type": "code",
   "execution_count": 1,
   "metadata": {},
   "outputs": [],
   "source": [
    "from sklearn.pipeline import Pipeline\n",
    "from sklearn.compose import ColumnTransformer\n",
    "from sklearn.model_selection import train_test_split\n",
    "from sklearn.preprocessing import StandardScaler, OneHotEncoder\n",
    "from sklearn.impute import SimpleImputer\n",
    "from sklearn.tree import DecisionTreeRegressor, plot_tree \n",
    "from sklearn.linear_model import LinearRegression"
   ]
  },
  {
   "cell_type": "code",
   "execution_count": 105,
   "metadata": {},
   "outputs": [],
   "source": [
    "test_data, train_data = pd.read_csv('fhs_test.csv'), pd.read_csv('fhs_train.csv')\n",
    "data = pd.concat([test_data, train_data])\n",
    "\n",
    "y = 'TenYearCHD'\n",
    "cat_vars = ['sex', 'education', 'BPMeds', 'prevalentStroke', 'prevalentHyp', 'diabetes']\n",
    "num_vars = ['age', 'cigsPerDay', 'totChol', 'sysBP', 'diaBP', 'BMI', 'heartRate', 'glucose']\n",
    "X_vars = cat_vars + num_vars"
   ]
  },
  {
   "cell_type": "code",
   "execution_count": 106,
   "metadata": {},
   "outputs": [],
   "source": [
    "cat_pipeline = Pipeline(steps = [('ohc', OneHotEncoder(sparse_output=False))])\n",
    "num_pipeline = Pipeline(steps = [('maxmin', StandardScaler()), ('imputer', SimpleImputer(strategy='median'))])"
   ]
  },
  {
   "cell_type": "code",
   "execution_count": 107,
   "metadata": {},
   "outputs": [],
   "source": [
    "#column transformer\n",
    "preprocessor = ColumnTransformer(transformers = [('cat', cat_pipeline, cat_vars), ('num', num_pipeline, num_vars)])"
   ]
  },
  {
   "cell_type": "code",
   "execution_count": 108,
   "metadata": {},
   "outputs": [],
   "source": [
    "lm_pipe = Pipeline(steps=[('preprocessor', preprocessor), ('linreg', LinearRegression(fit_intercept=False))])\n",
    "tree_pipe = Pipeline(steps=[('preprocessor', preprocessor), ('tree', DecisionTreeRegressor(max_depth = 6))])"
   ]
  },
  {
   "cell_type": "code",
   "execution_count": 109,
   "metadata": {},
   "outputs": [
    {
     "name": "stdout",
     "output_type": "stream",
     "text": [
      "Linear Model rsq:  0.08736423902541657\n",
      "sex: -2138080833440.4568\n",
      "education: -2138080833440.376\n",
      "BPMeds: -559131180679.964\n",
      "prevalentStroke: -559131180679.9923\n",
      "prevalentHyp: -559131180679.9786\n",
      "diabetes: -559131180679.9706\n",
      "age: -559131180680.0298\n",
      "cigsPerDay: -1199558190427.1997\n",
      "totChol: -1199558190427.136\n",
      "sysBP: -1199558190427.1194\n",
      "diaBP: 7629400177055.803\n",
      "BMI: 7629400177055.903\n",
      "heartRate: -881778545473.6825\n",
      "glucose: -881778545473.6593\n",
      "\n",
      "Tree rsq:  -0.02243805524274345\n"
     ]
    },
    {
     "data": {
      "image/png": "[encoded data removed]",
      "text/plain": [
       "<Figure size 640x480 with 1 Axes>"
      ]
     },
     "metadata": {},
     "output_type": "display_data"
    }
   ],
   "source": [
    "X_train = train_data.loc[:, train_data.columns!= y]\n",
    "X_test = test_data.loc[:, test_data.columns!= y]\n",
    "\n",
    "lm = lm_pipe.fit(X_train, train_data[y])\n",
    "tree = tree_pipe.fit(X_train, train_data[y])\n",
    "\n",
    "print('Linear Model rsq: ', lm.score(X_test, test_data[y]))  # R-squared\n",
    "coefs = lm.named_steps['linreg'].coef_\n",
    "for var, coef in zip(X_vars, coefs):\n",
    "    print(f\"{var}: {coef}\")\n",
    "y_hat_lm = lm.predict(X_test) # Predicted values\n",
    "print()\n",
    "\n",
    "print('Tree rsq: ', tree.score(X_test, test_data[y]) ) # R-squared\n",
    "y_hat_tree = tree.predict(X_test) \n",
    "\n",
    "\n",
    "sns.scatterplot(x=y_hat_lm, y=y_hat_tree)\n",
    "plt.show()"
   ]
  }
 ],
 "metadata": {
  "kernelspec": {
   "display_name": "Python 3",
   "language": "python",
   "name": "python3"
  },
  "language_info": {
   "codemirror_mode": {
    "name": "ipython",
    "version": 3
   },
   "file_extension": ".py",
   "mimetype": "text/x-python",
   "name": "python",
   "nbconvert_exporter": "python",
   "pygments_lexer": "ipython3",
   "version": "3.11.4"
  }
 },
 "nbformat": 4,
 "nbformat_minor": 2
}
